{
 "cells": [
  {
   "cell_type": "code",
   "execution_count": 54,
   "id": "b4057c47-8406-4922-823e-b4cb118137ad",
   "metadata": {
    "slideshow": {
     "slide_type": "skip"
    }
   },
   "outputs": [
    {
     "name": "stdout",
     "output_type": "stream",
     "text": [
      "The tensorboard extension is already loaded. To reload it, use:\n",
      "  %reload_ext tensorboard\n"
     ]
    }
   ],
   "source": [
    "# Load the TensorBoard notebook extension\n",
    "%load_ext tensorboard"
   ]
  },
  {
   "cell_type": "markdown",
   "id": "3cdd1562",
   "metadata": {
    "slideshow": {
     "slide_type": "slide"
    }
   },
   "source": [
    "# Training and Hyper-paramters optimization\n",
    "\n",
    "## Training\n",
    "\n",
    "* Supervised learning with given labels \n",
    "* Binary classification : \n",
    "    * 2 classes: `Left (L)` & `Right (R)`\n",
    "    * `Sigmoid` Activation function at the classifcation output layer \n",
    "    * `0.5` threshold for balanced dataset\n",
    "    * `BCELoss` :  Binary Cross Entropy between the target and the output\n",
    "    * During Training: `80% Train set` , `20% Validation set`\n",
    "\n",
    "| Subject | Sessions |\n",
    "|    :----:   |   :----:  |\n",
    "|[1,2,3,4,5,6,7,8,9,10] | [1,3,5,7,9 ] , [ 1,3,5,7,9 ], [ 2,3,6,7 ], [ 1,3,6,7,9 ], [ 2,3,5,7 ],[ 2,3,5,7 ],[ 1,3,5,7,9 ],[ 1,3,5,7,9 ],[ 1,3,5,7,9 ],[ 1,3,5,7,9 ] |\n",
    "\n"
   ]
  },
  {
   "cell_type": "markdown",
   "id": "05466c80",
   "metadata": {
    "slideshow": {
     "slide_type": "slide"
    }
   },
   "source": [
    "## Hyper-parameters :\n",
    "\n",
    "### Model Hyper-parameters: \n",
    "   \n",
    "* Kernel size\n",
    "* Filter length (spatial & temporal )\n",
    "* Number of layers\n",
    "* Batch normalization\n",
    "* Dropout probablity \n",
    "* ...\n",
    "\n",
    "      \n"
   ]
  },
  {
   "cell_type": "markdown",
   "id": "e4964a04",
   "metadata": {
    "slideshow": {
     "slide_type": "slide"
    }
   },
   "source": [
    "### Training Hypre-parameters\n",
    "\n",
    "* `optimizers` = [\"Adam\", \"RMSprop\", \"SGD\"]\n",
    "*  `lrs` =  [1e-5, 1e-1]\n",
    "*  `batch_size`=  [32, 64, 128]\n",
    "*  `input_norm` =  [\"std\", \"minmax\"]\n",
    "*  `norm_axes`  :\n",
    "    * `0` = Trials\n",
    "    * `1` = Channels\n",
    "    * `2` = Timepoints"
   ]
  },
  {
   "cell_type": "markdown",
   "id": "383d1d79",
   "metadata": {
    "slideshow": {
     "slide_type": "slide"
    }
   },
   "source": [
    "# Shallow net\n",
    "<img align=\"right\" width=\"300\" height=\"300\" src=\"./shallow_archi.png\">\n",
    "\n",
    "## Model Hyper-parameters\n",
    "* `n_filters_time` = trial.suggest_int(\"n_filters_time\", low=20, high=60, step=10)\n",
    "* `filter_time_length` = trial.suggest_int(\"filter_time_length\", low=10, high=40, step=5)\n",
    "* `n_filters_spat` = trial.suggest_int(\"n_filters_spat\", low=20, high=60, step=10)\n",
    "* `pool_time_length` = trial.suggest_int(\"pool_time_length\", low=10, high=80, step=25)\n",
    "* `pool_time_stride` = trial.suggest_int(\"pool_time_stride\", low=15, high=45, step=15)\n",
    "* `drop_prob` = trial.suggest_float(\"drop_prob\", 0, 1)\n",
    "* `batch_norm` = trial.suggest_categorical(\"batch_norm\", [True, False])\n",
    "* `batch_norm_alpha` = trial.suggest_float(\"batch_norm_alpha\", 0, 1)   "
   ]
  },
  {
   "cell_type": "markdown",
   "id": "6fe47063",
   "metadata": {
    "slideshow": {
     "slide_type": "subslide"
    }
   },
   "source": [
    "### Training Dataset \n",
    "\n",
    "| Runs | Trial87 |Trial26 |\n",
    "| :---:        |    :----:   |  :----: |\n",
    "| Subjects| [1,2,3] | [1,2,3,4,5,6,7,8,9,10] |\n",
    "| Sessions |  [1,3,5,7,9] , [ 1,3,5,7,9], [ 2,3,6,7 ] | [1,3,5,7,9 ] , [ 1,3,5,7,9 ], [ 2,3,6,7 ], [ 1,3,6,7,9 ], [ 2,3,5,7 ],[ 2,3,5,7 ],[ 1,3,5,7,9 ],[ 1,3,5,7,9 ],[ 1,3,5,7,9 ],[ 1,3,5,7,9 ]|\n",
    "\n"
   ]
  },
  {
   "cell_type": "code",
   "execution_count": 55,
   "id": "4282477f",
   "metadata": {
    "scrolled": false,
    "slideshow": {
     "slide_type": "slide"
    }
   },
   "outputs": [
    {
     "data": {
      "text/plain": [
       "Reusing TensorBoard on port 6007 (pid 28597), started 1:12:43 ago. (Use '!kill 28597' to kill it.)"
      ]
     },
     "metadata": {},
     "output_type": "display_data"
    },
    {
     "data": {
      "text/html": [
       "\n",
       "      <iframe id=\"tensorboard-frame-2e467e332c2dec13\" width=\"100%\" height=\"800\" frameborder=\"0\">\n",
       "      </iframe>\n",
       "      <script>\n",
       "        (function() {\n",
       "          const frame = document.getElementById(\"tensorboard-frame-2e467e332c2dec13\");\n",
       "          const url = new URL(\"/\", window.location);\n",
       "          const port = 6007;\n",
       "          if (port) {\n",
       "            url.port = port;\n",
       "          }\n",
       "          frame.src = url;\n",
       "        })();\n",
       "      </script>\n",
       "    "
      ],
      "text/plain": [
       "<IPython.core.display.HTML object>"
      ]
     },
     "metadata": {},
     "output_type": "display_data"
    }
   ],
   "source": [
    "%tensorboard --logdir ./final_results/shallow/filter_data/\n",
    "#| Runs    | Trial87 |Trial26                 |\n",
    "#| Subjects| [1,2,3] | [1,2,3,4,5,6,7,8,9,10] |"
   ]
  },
  {
   "cell_type": "markdown",
   "id": "dab162c3",
   "metadata": {
    "slideshow": {
     "slide_type": "slide"
    }
   },
   "source": [
    "###  Input Interval\n",
    "\n",
    "* **Dataset Imbalance** with the input data intervall `[2000, 8000]`\n",
    "\n",
    "| Runs | Trial 26   | Trial 81 | \n",
    "| - | - | - |\n",
    "|Input interval| [2000, 8000]     | [2000, 7000] | \n",
    " \n"
   ]
  },
  {
   "cell_type": "code",
   "execution_count": 56,
   "id": "4a97ddc8",
   "metadata": {
    "slideshow": {
     "slide_type": "slide"
    }
   },
   "outputs": [
    {
     "data": {
      "text/plain": [
       "Reusing TensorBoard on port 6008 (pid 28631), started 1:12:42 ago. (Use '!kill 28631' to kill it.)"
      ]
     },
     "metadata": {},
     "output_type": "display_data"
    },
    {
     "data": {
      "text/html": [
       "\n",
       "      <iframe id=\"tensorboard-frame-369c582ced6382fc\" width=\"100%\" height=\"800\" frameborder=\"0\">\n",
       "      </iframe>\n",
       "      <script>\n",
       "        (function() {\n",
       "          const frame = document.getElementById(\"tensorboard-frame-369c582ced6382fc\");\n",
       "          const url = new URL(\"/\", window.location);\n",
       "          const port = 6008;\n",
       "          if (port) {\n",
       "            url.port = port;\n",
       "          }\n",
       "          frame.src = url;\n",
       "        })();\n",
       "      </script>\n",
       "    "
      ],
      "text/plain": [
       "<IPython.core.display.HTML object>"
      ]
     },
     "metadata": {},
     "output_type": "display_data"
    }
   ],
   "source": [
    "%tensorboard --logdir ./final_results/shallow/interval1/\n",
    "#| Runs         | Trial 26         | Trial 81     | \n",
    "#|Input interval| [2000, 8000]     | [2000, 7000] | "
   ]
  },
  {
   "cell_type": "markdown",
   "id": "d929017a",
   "metadata": {
    "slideshow": {
     "slide_type": "slide"
    }
   },
   "source": [
    "## TOP 3-Model\n",
    "\n",
    "|                    |   Trial 81: acc~ 0.976  |   Trial 10: acc~0.972   | Trial 24: acc~0.969     |\n",
    "|--------------------|:-----------------------:|:-----------------------:|-------------------------|\n",
    "|     batch_norm     |           True          |           True          |           True          |\n",
    "|  batch_norm_alpha  |    0.9154121627636327   |   0.00404122604380025   |   0.30694568550541435   |\n",
    "|     batch_size     |            64           |            64           |            64           |\n",
    "|      drop_prob     | **0.10764970247279382** | **0.07107984516053512** | **0.31874295683818593** |\n",
    "| filter_time_length |           100           |            90           |           100           |\n",
    "|     input_norm     |           std           |           std           |           std           |\n",
    "|         lr         |    0.0455351928752179   |   0.05304083971721983   |   0.021135555778184406  |\n",
    "|   n_filters_spat   |            20           |            30           |            20           |\n",
    "|   n_filters_time   |            30           |            20           |            20           |\n",
    "|      norm_axes     |            1            |          **0**          |          **0**          |\n",
    "|      optimizer     |           SGD           |           SGD           |           SGD           |\n",
    "| pool_time_length   |            50           |            50           |            40           |\n",
    "| pool_time_stride   |            45           |            45           |            30           |"
   ]
  },
  {
   "cell_type": "code",
   "execution_count": 57,
   "id": "f387b656",
   "metadata": {
    "slideshow": {
     "slide_type": "slide"
    }
   },
   "outputs": [
    {
     "data": {
      "text/plain": [
       "Reusing TensorBoard on port 6009 (pid 28682), started 1:12:40 ago. (Use '!kill 28682' to kill it.)"
      ]
     },
     "metadata": {},
     "output_type": "display_data"
    },
    {
     "data": {
      "text/html": [
       "\n",
       "      <iframe id=\"tensorboard-frame-8e69f9da981b2e2\" width=\"100%\" height=\"800\" frameborder=\"0\">\n",
       "      </iframe>\n",
       "      <script>\n",
       "        (function() {\n",
       "          const frame = document.getElementById(\"tensorboard-frame-8e69f9da981b2e2\");\n",
       "          const url = new URL(\"/\", window.location);\n",
       "          const port = 6009;\n",
       "          if (port) {\n",
       "            url.port = port;\n",
       "          }\n",
       "          frame.src = url;\n",
       "        })();\n",
       "      </script>\n",
       "    "
      ],
      "text/plain": [
       "<IPython.core.display.HTML object>"
      ]
     },
     "metadata": {},
     "output_type": "display_data"
    }
   ],
   "source": [
    "%tensorboard --logdir ./final_results/shallow/best_3/\n",
    "#|                    |   Trial 81: acc~ 0.976  |   Trial 10: acc~0.972   | Trial 24: acc~0.969     |\n",
    "#|      drop_prob     | **0.10764970247279382** | **0.07107984516053512** | **0.31874295683818593** |\n",
    "#|      norm_axes     |            1            |          **0**          |          **0**          |"
   ]
  },
  {
   "cell_type": "markdown",
   "id": "3b2d3b8a",
   "metadata": {
    "slideshow": {
     "slide_type": "slide"
    }
   },
   "source": [
    "# EEG-Net\n",
    "\n",
    "*  ``EEGNet-F1,D`` to denote the number of temporal and spatial filters to learn; i.e.: EEGNet-4,2\n",
    "denotes learning 4 temporal filters and 2 spatial filters per temporal filter.\n",
    "\n",
    "\n",
    "\n",
    "<table><tr>\n",
    "<td> <img src=\"./eegnet_archi.png\" alt=\"Drawing\" style=\"width: 500px;\"/> </td>\n",
    "<td> <img src=\"./eegnet_info.png\" alt=\"Drawing\" style=\"width: 1000px;\"/> </td>\n",
    "</tr></table>"
   ]
  },
  {
   "cell_type": "markdown",
   "id": "d5019e82",
   "metadata": {
    "slideshow": {
     "slide_type": "skip"
    }
   },
   "source": [
    "* Block 1 : \"we perform two convolutional steps in sequence. First, we fit F1 2D convolutional\n",
    "filters of size (1; 64), with the filter length chosen to be half the sampling rate of the data (here, 128Hz), outputting F1 feature maps containing the EEG signal at different band-pass frequencies. ... We then use a Depthwise Convolution of size (C; 1) to learn a spatial filter \"\n",
    "* Block 2 : \"we use a Separable Convolution, which is a Depthwise Convolution (here, of size (1; 16), representing 500ms of EEG activity at 32Hz) followed by F2 (1; 1) Pointwise Convolutions. ... This operation is also particularly useful for EEG signals as different feature maps may represent data at different\n",
    "time-scales of information.\"\n",
    "* Classification Block : \"the features are passed directly to a softmax classification with N\n",
    "units, N being the number of classes in the data. We omit the use of a dense layer for feature\n",
    "aggregation prior to the softmax classification layer to reduce the number of free parameters\n",
    "in the model\""
   ]
  },
  {
   "cell_type": "markdown",
   "id": "1bcf90e7",
   "metadata": {
    "slideshow": {
     "slide_type": "slide"
    }
   },
   "source": [
    "# EEGNet-V1 : F1=1 and D=1\n",
    "\n",
    "* num_filters_1 = 16\n",
    "* num_filters_2 = 4\n",
    "* num_filters_3 = 4\n",
    "\n",
    "## Model Hyper-parameters\n",
    "\n",
    "* `second_kernel_size` : \n",
    "    * dim 1 : trial.suggest_int(\"second_kernel_size_1\", low=6, high=10, step=2)\n",
    "    * dim 2 : trial.suggest_int(\"second_kernel_size_2\", low=2, high=6, step=2)\n",
    "* `third_kernel_size` :\n",
    "    * dim 1 : trial.suggest_int(\"third_kernel_size_1\", low=6, high=10, step=2)\n",
    "    * dim 2 : trial.suggest_int(\"third_kernel_size_2\", low=2, high=6, step=2)\n",
    "\n",
    "* `dropout_prob` = trial.suggest_float(\"dropout_rate\", 0, 1)\n"
   ]
  },
  {
   "cell_type": "markdown",
   "id": "273a3e9b",
   "metadata": {
    "slideshow": {
     "slide_type": "slide"
    }
   },
   "source": [
    "### Normalization axis & Learning Rate (EEGNet-V1)\n",
    "\n",
    "|                       | Trial 11 : acc~0.948 | Trial 12: acc~ 0.502 | Trial 13: acc~0.877 |\n",
    "|:---------------------:|:--------------------:|:--------------------:|:-------------------:|\n",
    "|       batch_size      |          128         |          128         |         128         |\n",
    "|      dropout_rate     |  0.33648887482349155 |  0.24596745056760894 |  0.3012513440131098 |\n",
    "|       input_norm      |          std         |          std         |         std         |\n",
    "|          **lr**         | 0.005512511929038205 |  0.02386075586781167 | 0.09775722394094524 |\n",
    "|      **norm_axes**      |           2          |           2          |          0          |\n",
    "|       optimizer       |         Adam         |         Adam         |         Adam        |\n",
    "| second_kernel_size_1: |           8          |           8          |          8          |\n",
    "| second_kernel_size_2: |           4          |           4          |          4          |\n",
    "|  third_kernel_size_1: |          10          |          10          |          10         |\n",
    "|  third_kernel_size_2: |           2          |           2          |          2          |"
   ]
  },
  {
   "cell_type": "code",
   "execution_count": 58,
   "id": "8d20beb3",
   "metadata": {
    "slideshow": {
     "slide_type": "slide"
    }
   },
   "outputs": [
    {
     "data": {
      "text/plain": [
       "Reusing TensorBoard on port 6010 (pid 28739), started 1:12:39 ago. (Use '!kill 28739' to kill it.)"
      ]
     },
     "metadata": {},
     "output_type": "display_data"
    },
    {
     "data": {
      "text/html": [
       "\n",
       "      <iframe id=\"tensorboard-frame-5ef000c07a7dad90\" width=\"100%\" height=\"800\" frameborder=\"0\">\n",
       "      </iframe>\n",
       "      <script>\n",
       "        (function() {\n",
       "          const frame = document.getElementById(\"tensorboard-frame-5ef000c07a7dad90\");\n",
       "          const url = new URL(\"/\", window.location);\n",
       "          const port = 6010;\n",
       "          if (port) {\n",
       "            url.port = port;\n",
       "          }\n",
       "          frame.src = url;\n",
       "        })();\n",
       "      </script>\n",
       "    "
      ],
      "text/plain": [
       "<IPython.core.display.HTML object>"
      ]
     },
     "metadata": {},
     "output_type": "display_data"
    }
   ],
   "source": [
    "%tensorboard --logdir ./final_results/eegnet_v1/norm_axis/\n",
    "#|                       | Trial 11 : acc~0.948 | Trial 12: acc~ 0.502 | Trial 13: acc~0.877 |\n",
    "#|          **lr**         | 0.005512511929038205 |  0.02386075586781167 | 0.09775722394094524 |\n",
    "#|      **norm_axes**      |           2          |           2          |          0          |"
   ]
  },
  {
   "cell_type": "markdown",
   "id": "395eb10a",
   "metadata": {
    "slideshow": {
     "slide_type": "slide"
    }
   },
   "source": [
    "## TOP 3-Model (EEGNet-V1)\n",
    "|                       |  Trial 14 : acc~0.9614  |  Trial 67: acc~ 0.9614  | Trial 11: acc~0.9485 |\n",
    "|:---------------------:|:-----------------------:|:-----------------------:|:--------------------:|\n",
    "|       batch_size      |         **128**         |          **64**         |          128         |\n",
    "|      dropout_rate     |   0.028052359571746645  |    0.4891926373269993   |  0.3012513440131098  |\n",
    "|       input_norm      |           std           |           std           |          std         |\n",
    "|          *lr*         | **0.05802843218291968** | **0.00422359559662389** |  0.09775722394094524 |\n",
    "|      *norm_axes*      |            2            |            2            |           0          |\n",
    "|       optimizer       |         **SGD**         |         **Adam**        |         Adam         |\n",
    "| second_kernel_size_1: |            6            |            10           |           8          |\n",
    "| second_kernel_size_2: |            4            |            4            |           4          |\n",
    "|  third_kernel_size_1: |            8            |            10           |          10          |\n",
    "|  third_kernel_size_2: |            4            |            6            |           2          |"
   ]
  },
  {
   "cell_type": "markdown",
   "id": "92a7260e",
   "metadata": {
    "slideshow": {
     "slide_type": "notes"
    }
   },
   "source": [
    "Linear scaling rule: when the minibatch size is multiplied by k, multiply the learning rate by k\n",
    ". Although we initially found large batch sizes to perform worse, we were able to close most of the gap by increasing the learning rate. We saw that this is due to the larger batch sizes applying smaller batch updates, due to gradient competition between gradient vectors within a batch.\n",
    "\n",
    "When the right learning rate is chosen, larger batch sizes can train faster, especially when parallelized"
   ]
  },
  {
   "cell_type": "code",
   "execution_count": 59,
   "id": "932a9de7",
   "metadata": {
    "slideshow": {
     "slide_type": "slide"
    }
   },
   "outputs": [
    {
     "data": {
      "text/plain": [
       "Reusing TensorBoard on port 6011 (pid 28783), started 1:12:38 ago. (Use '!kill 28783' to kill it.)"
      ]
     },
     "metadata": {},
     "output_type": "display_data"
    },
    {
     "data": {
      "text/html": [
       "\n",
       "      <iframe id=\"tensorboard-frame-e61b0db85ba9c045\" width=\"100%\" height=\"800\" frameborder=\"0\">\n",
       "      </iframe>\n",
       "      <script>\n",
       "        (function() {\n",
       "          const frame = document.getElementById(\"tensorboard-frame-e61b0db85ba9c045\");\n",
       "          const url = new URL(\"/\", window.location);\n",
       "          const port = 6011;\n",
       "          if (port) {\n",
       "            url.port = port;\n",
       "          }\n",
       "          frame.src = url;\n",
       "        })();\n",
       "      </script>\n",
       "    "
      ],
      "text/plain": [
       "<IPython.core.display.HTML object>"
      ]
     },
     "metadata": {},
     "output_type": "display_data"
    }
   ],
   "source": [
    "%tensorboard --logdir ./final_results/eegnet_v1/best_3/\n",
    "#|                       |  Trial 14 : acc~0.9614  |  Trial 67: acc~ 0.9614  | Trial 11: acc~0.9485 |\n",
    "#| second_kernel_size_1: |            6            |            10           |           8          |\n",
    "#| second_kernel_size_2: |            4            |            4            |           4          |\n",
    "#|  third_kernel_size_1: |            8            |            10           |          10          |\n",
    "#|  third_kernel_size_2: |            4            |            6            |           2          |"
   ]
  },
  {
   "cell_type": "markdown",
   "id": "5ff8917a",
   "metadata": {
    "slideshow": {
     "slide_type": "slide"
    }
   },
   "source": [
    "# EEGNet-F1,D \n",
    "\n",
    "* `kernel_size_1` = (1, `kernel_length`)\n",
    "* `kernel_size_2` = (num_channels, 1)\n",
    "* `kernel_size_3` = (1, 16)\n",
    "\n",
    "\n",
    "## Model Hyper-parameters\n",
    "\n",
    "* `F1` = trial.suggest_int(\"F1\", low=6, high=10, step=2)\n",
    "* `D` = trial.suggest_int(\"D\", low=2, high=4, step=2)\n",
    "* `F2` = trial.suggest_int(\"F2\", low=12, high=16, step=2)\n",
    "* `kernel_length` = trial.suggest_int(\"kernel_length\", low=20, high=80, step=10)\n",
    "* `pool_mode` = trial.suggest_categorical(\"pool_mode\", [\"mean\", \"max\"])\n",
    "* `dropout_prob` = trial.suggest_float(\"dropout_rate\", 0, 1)"
   ]
  },
  {
   "cell_type": "markdown",
   "id": "4aa03038",
   "metadata": {
    "slideshow": {
     "slide_type": "slide"
    }
   },
   "source": [
    "## Kernel length & Dropout (EEGNet-F1,D)\n",
    "\n",
    "|                     \t|   Trial 17 : acc~0.966   \t|   Trial 52: acc~ 0.978  \t|   Trial 32: acc~0.9799   \t|\n",
    "|:-------------------:\t|:------------------------:\t|:-----------------------:\t|:------------------------:\t|\n",
    "|          D          \t|             6            \t|            6            \t|             6            \t|\n",
    "|          F1         \t|            18            \t|            18           \t|            18            \t|\n",
    "|          F2         \t|            14            \t|            14           \t|            14            \t|\n",
    "|    kernel_length    \t|          **80**          \t|          **50**         \t|          **70**          \t|\n",
    "|      pool_mode      \t|           mean           \t|           mean          \t|           mean           \t|\n",
    "|      batch_size     \t|            32            \t|            32           \t|            32            \t|\n",
    "|     dropout_rate    \t|  **0.29354177565584844** \t| **0.16133096921841825** \t|  **0.09796662742110902** \t|\n",
    "|      input_norm     \t|            std           \t|           std           \t|            std           \t|\n",
    "|      norm_axes      \t|             0            \t|            0            \t|             0            \t|\n",
    "|      optimizer      \t|            SGD           \t|           SGD           \t|            SGD           \t|\n",
    "|          lr         \t| **0.009563534604912723** \t| **0.06789413869635393** \t| **0.008486730457873154** \t|"
   ]
  },
  {
   "cell_type": "code",
   "execution_count": 60,
   "id": "e727ad01",
   "metadata": {
    "slideshow": {
     "slide_type": "slide"
    }
   },
   "outputs": [
    {
     "data": {
      "text/plain": [
       "Reusing TensorBoard on port 6012 (pid 28821), started 1:12:38 ago. (Use '!kill 28821' to kill it.)"
      ]
     },
     "metadata": {},
     "output_type": "display_data"
    },
    {
     "data": {
      "text/html": [
       "\n",
       "      <iframe id=\"tensorboard-frame-b75cfa6c24004cfa\" width=\"100%\" height=\"800\" frameborder=\"0\">\n",
       "      </iframe>\n",
       "      <script>\n",
       "        (function() {\n",
       "          const frame = document.getElementById(\"tensorboard-frame-b75cfa6c24004cfa\");\n",
       "          const url = new URL(\"/\", window.location);\n",
       "          const port = 6012;\n",
       "          if (port) {\n",
       "            url.port = port;\n",
       "          }\n",
       "          frame.src = url;\n",
       "        })();\n",
       "      </script>\n",
       "    "
      ],
      "text/plain": [
       "<IPython.core.display.HTML object>"
      ]
     },
     "metadata": {},
     "output_type": "display_data"
    }
   ],
   "source": [
    "%tensorboard --logdir ./final_results/eegnet_v4/kernel_pool/\n",
    "#|                     \t|   Trial 17 : acc~0.966   \t|   Trial 52: acc~ 0.978  \t|   Trial 32: acc~0.9799   \t|\n",
    "#|    kernel_length    \t|          **80**          \t|          **50**         \t|          **70**          \t|"
   ]
  },
  {
   "cell_type": "markdown",
   "id": "33c0d698",
   "metadata": {
    "slideshow": {
     "slide_type": "slide"
    }
   },
   "source": [
    "## Top 3-Model (EEGNet-F1,D)\n",
    "|                     \t|  Trial 32 : acc~0.9799  \t| Trial 52: acc~ 0.9787 \t| Trial 83: acc~0.9749 \t|\n",
    "|:-------------------:\t|:-----------------------:\t|:---------------------:\t|:--------------------:\t|\n",
    "|          D          \t|            6            \t|           6           \t|           4          \t|\n",
    "|          F1         \t|            18           \t|           18          \t|          20          \t|\n",
    "|          F2         \t|            14           \t|           14          \t|          12          \t|\n",
    "|    kernel_length    \t|          **70**         \t|           50          \t|          60          \t|\n",
    "|      pool_mode      \t|           mean          \t|          mean         \t|         mean         \t|\n",
    "|      batch_size     \t|            32           \t|           32          \t|          32          \t|\n",
    "|     dropout_rate    \t|   0.19166787391840304   \t|  0.16133096921841825  \t|  0.21337922563837466 \t|\n",
    "|      input_norm     \t|           std           \t|          std          \t|          std         \t|\n",
    "|      norm_axes      \t|            0            \t|           0           \t|           0          \t|\n",
    "|      optimizer      \t|           SGD           \t|          SGD          \t|          SGD         \t|\n",
    "|          lr         \t| **0.04776693185260883** \t|  0.06789413869635393  \t|  0.06447106384282938 \t|"
   ]
  },
  {
   "cell_type": "code",
   "execution_count": 61,
   "id": "f0917d7f",
   "metadata": {
    "slideshow": {
     "slide_type": "slide"
    }
   },
   "outputs": [
    {
     "data": {
      "text/plain": [
       "Reusing TensorBoard on port 6013 (pid 28869), started 1:12:37 ago. (Use '!kill 28869' to kill it.)"
      ]
     },
     "metadata": {},
     "output_type": "display_data"
    },
    {
     "data": {
      "text/html": [
       "\n",
       "      <iframe id=\"tensorboard-frame-7da64e32706e11fe\" width=\"100%\" height=\"800\" frameborder=\"0\">\n",
       "      </iframe>\n",
       "      <script>\n",
       "        (function() {\n",
       "          const frame = document.getElementById(\"tensorboard-frame-7da64e32706e11fe\");\n",
       "          const url = new URL(\"/\", window.location);\n",
       "          const port = 6013;\n",
       "          if (port) {\n",
       "            url.port = port;\n",
       "          }\n",
       "          frame.src = url;\n",
       "        })();\n",
       "      </script>\n",
       "    "
      ],
      "text/plain": [
       "<IPython.core.display.HTML object>"
      ]
     },
     "metadata": {},
     "output_type": "display_data"
    }
   ],
   "source": [
    "%tensorboard --logdir ./final_results/eegnet_v4/best_3/\n",
    "#|                     \t|  Trial 32 : acc~0.9799  \t| Trial 52: acc~ 0.9787 \t| Trial 83: acc~0.9749 \t|\n",
    "#|          D          \t|            6            \t|           6           \t|           4          \t|\n",
    "#|          F1         \t|            18           \t|           18          \t|          20          \t|\n",
    "#|          F2         \t|            14           \t|           14          \t|          12          \t|\n",
    "#|    kernel_length    \t|          **70**         \t|           50          \t|          60          \t|"
   ]
  }
 ],
 "metadata": {
  "celltoolbar": "Slideshow",
  "kernelspec": {
   "display_name": "Python 3 (ipykernel)",
   "language": "python",
   "name": "python3"
  },
  "language_info": {
   "codemirror_mode": {
    "name": "ipython",
    "version": 3
   },
   "file_extension": ".py",
   "mimetype": "text/x-python",
   "name": "python",
   "nbconvert_exporter": "python",
   "pygments_lexer": "ipython3",
   "version": "3.7.9"
  },
  "toc-autonumbering": false,
  "toc-showcode": false,
  "toc-showmarkdowntxt": true
 },
 "nbformat": 4,
 "nbformat_minor": 5
}
